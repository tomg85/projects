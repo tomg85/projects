{
 "cells": [
  {
   "cell_type": "markdown",
   "id": "e4ce30dc-73d8-4589-bab1-aa98853ff1a3",
   "metadata": {},
   "source": [
    "# Amazon Web Scraping Using Python | Data Analyst Portfolio Project"
   ]
  },
  {
   "cell_type": "code",
   "execution_count": 4,
   "id": "588e8066-c5ee-404d-92ea-cd3079a372b6",
   "metadata": {},
   "outputs": [],
   "source": [
    "# Import libraries\n",
    "\n",
    "from bs4 import BeautifulSoup\n",
    "import requests\n",
    "import time\n",
    "import datetime\n",
    "\n",
    "import smtplib"
   ]
  },
  {
   "cell_type": "code",
   "execution_count": 57,
   "id": "0d385d22-371b-42ed-8118-28bb0874c824",
   "metadata": {},
   "outputs": [
    {
     "name": "stdout",
     "output_type": "stream",
     "text": [
      "\n",
      "                    I Went Outside Once Adult Humor Graphic Novelty Sarcastic Funny T Shirt\n",
      "                   \n",
      "\n",
      "\n",
      "\n",
      "\n",
      "                    $14.95\n",
      "                   \n",
      "\n",
      "\n",
      "\n",
      "\n",
      "\n",
      "                      $\n",
      "                     \n",
      "\n",
      "                      14\n",
      "                      \n",
      "                       .\n",
      "                      \n",
      "\n",
      "\n",
      "                      95\n",
      "                     \n",
      "\n",
      "\n",
      "\n",
      "\n",
      "\n",
      "\n",
      "\n",
      "\n",
      "\n",
      "\n",
      "\n",
      "\n",
      "\n",
      "\n"
     ]
    }
   ],
   "source": [
    "# Connect to Website and pull in data\n",
    "\n",
    "URL = 'https://www.amazon.com/sspa/click?ie=UTF8&spc=MTo4NTcyNDQyNTE2ODUxODIwOjE3MjgzODgyOTc6c3BfZGV0YWlsOjIwMDAxMzgwMzA3NTM4MTo6Ojo&url=%2Fdp%2FB01FY6G49U%2Fref%3Dsspa_dk_detail_2%3Fpsc%3D1%26pd_rd_i%3DB01FY6G49U%26pd_rd_w%3DodZqO%26content-id%3Damzn1.sym.7446a9d1-25fe-4460-b135-a60336bad2c9%26pf_rd_p%3D7446a9d1-25fe-4460-b135-a60336bad2c9%26pf_rd_r%3DG262YPTD8W0G3VQJTB0Z%26pd_rd_wg%3DLFBgz%26pd_rd_r%3Dc715033d-b6d2-49ed-a390-f2142f1f6495%26s%3Dapparel%26sp_csd%3Dd2lkZ2V0TmFtZT1zcF9kZXRhaWw'\n",
    "\n",
    "headers = {\"User-Agent\": \"Mozilla/5.0 (Windows NT 10.0; Win64; x64; rv:131.0) Gecko/20100101 Firefox/131.0\", \"Accept-Encoding\":\"gzip, deflate\", \"Accept\":\"text/html,application/xhtml+xml,application/xml;q=0.9,*/*;q=0.8\", \"DNT\":\"1\",\"Connection\":\"close\", \"Upgrade-Insecure-Requests\":\"1\"}\n",
    "\n",
    "page = requests.get(URL, headers=headers)\n",
    "\n",
    "soup1 = BeautifulSoup(page.content, \"html.parser\")\n",
    "\n",
    "soup2 = BeautifulSoup(soup1.prettify(), \"html.parser\")\n",
    "\n",
    "title = soup2.find(id='productTitle').get_text()\n",
    "\n",
    "price = soup2.find(id='corePriceDisplay_desktop_feature_div').get_text()\n",
    "\n",
    "print(title)\n",
    "print(price)"
   ]
  },
  {
   "cell_type": "code",
   "execution_count": 59,
   "id": "ff1ee142-4ad6-441f-88bc-d2795055be8c",
   "metadata": {},
   "outputs": [],
   "source": [
    "price = price.strip()[1:6]\n",
    "title = title.strip()"
   ]
  },
  {
   "cell_type": "code",
   "execution_count": 61,
   "id": "e456eff0-3b30-4325-96f5-063a6b341190",
   "metadata": {},
   "outputs": [
    {
     "name": "stdout",
     "output_type": "stream",
     "text": [
      "14.95\n",
      "I Went Outside Once Adult Humor Graphic Novelty Sarcastic Funny T Shirt\n"
     ]
    }
   ],
   "source": [
    "print(price)\n",
    "print(title)"
   ]
  },
  {
   "cell_type": "code",
   "execution_count": 87,
   "id": "e8b08a07-2ea2-4c6f-8f2e-7109864b9fb5",
   "metadata": {},
   "outputs": [
    {
     "name": "stdout",
     "output_type": "stream",
     "text": [
      "2024-10-08\n"
     ]
    }
   ],
   "source": [
    "# Create a Timestamp for your output to track when data was collected\n",
    "\n",
    "import datetime\n",
    "\n",
    "today = datetime.date.today()\n",
    "\n",
    "print(today)"
   ]
  },
  {
   "cell_type": "code",
   "execution_count": 89,
   "id": "690081fa-4137-435b-bf15-3550575d6c3c",
   "metadata": {},
   "outputs": [
    {
     "data": {
      "text/plain": [
       "list"
      ]
     },
     "execution_count": 89,
     "metadata": {},
     "output_type": "execute_result"
    }
   ],
   "source": [
    "import csv\n",
    "\n",
    "header = ['Title','Price','Date']\n",
    "data = [title, price, today]\n",
    "\n",
    "type(data)"
   ]
  },
  {
   "cell_type": "code",
   "execution_count": 143,
   "id": "48b9d78e-1d24-494b-b812-f92607c7e5aa",
   "metadata": {},
   "outputs": [],
   "source": [
    "# Only run this once to begin, otherwise it will overwrite the file and delete all data.\n",
    "\n",
    "#with open('AmazonWebScraperDataset.csv','w', newline='', encoding='UTF8') as f:\n",
    "    #writer = csv.writer(f)\n",
    "    #writer.writerow(header)\n",
    "    #writer.writerow(data)"
   ]
  },
  {
   "cell_type": "code",
   "execution_count": 145,
   "id": "19509cf7-bd21-462a-a1e3-ec0eafa894d6",
   "metadata": {},
   "outputs": [
    {
     "data": {
      "text/html": [
       "<div>\n",
       "<style scoped>\n",
       "    .dataframe tbody tr th:only-of-type {\n",
       "        vertical-align: middle;\n",
       "    }\n",
       "\n",
       "    .dataframe tbody tr th {\n",
       "        vertical-align: top;\n",
       "    }\n",
       "\n",
       "    .dataframe thead th {\n",
       "        text-align: right;\n",
       "    }\n",
       "</style>\n",
       "<table border=\"1\" class=\"dataframe\">\n",
       "  <thead>\n",
       "    <tr style=\"text-align: right;\">\n",
       "      <th></th>\n",
       "      <th>Title</th>\n",
       "      <th>Price</th>\n",
       "      <th>Date</th>\n",
       "    </tr>\n",
       "  </thead>\n",
       "  <tbody>\n",
       "    <tr>\n",
       "      <th>0</th>\n",
       "      <td>I Went Outside Once Adult Humor Graphic Novelt...</td>\n",
       "      <td>14.95</td>\n",
       "      <td>2024-10-08</td>\n",
       "    </tr>\n",
       "  </tbody>\n",
       "</table>\n",
       "</div>"
      ],
      "text/plain": [
       "                                               Title  Price        Date\n",
       "0  I Went Outside Once Adult Humor Graphic Novelt...  14.95  2024-10-08"
      ]
     },
     "execution_count": 145,
     "metadata": {},
     "output_type": "execute_result"
    }
   ],
   "source": [
    "import pandas as pd\n",
    "df = pd.read_csv(r\"C:\\Users\\Admin\\AmazonWebScraperDataset.csv\")\n",
    "df"
   ]
  },
  {
   "cell_type": "code",
   "execution_count": null,
   "id": "d446bb7e-1c9c-4fb1-9855-562a73d4cdf5",
   "metadata": {},
   "outputs": [],
   "source": [
    "#Now we are appending data to the csv\n",
    "\n",
    "with open('AmazonWebScraperDataset.csv','a+', newline='', encoding='UTF8') as f:\n",
    "    writer = csv.writer(f)\n",
    "    writer.writerow(data)"
   ]
  },
  {
   "cell_type": "code",
   "execution_count": 149,
   "id": "0560b23f-5f2e-4713-937d-5c506fe8aa07",
   "metadata": {},
   "outputs": [],
   "source": [
    "# Runs check_price after a set time and inputs data into your CSV\n",
    "\n",
    "def check_price():\n",
    "    URL = 'https://www.amazon.com/sspa/click?ie=UTF8&spc=MTo4NTcyNDQyNTE2ODUxODIwOjE3MjgzODgyOTc6c3BfZGV0YWlsOjIwMDAxMzgwMzA3NTM4MTo6Ojo&url=%2Fdp%2FB01FY6G49U%2Fref%3Dsspa_dk_detail_2%3Fpsc%3D1%26pd_rd_i%3DB01FY6G49U%26pd_rd_w%3DodZqO%26content-id%3Damzn1.sym.7446a9d1-25fe-4460-b135-a60336bad2c9%26pf_rd_p%3D7446a9d1-25fe-4460-b135-a60336bad2c9%26pf_rd_r%3DG262YPTD8W0G3VQJTB0Z%26pd_rd_wg%3DLFBgz%26pd_rd_r%3Dc715033d-b6d2-49ed-a390-f2142f1f6495%26s%3Dapparel%26sp_csd%3Dd2lkZ2V0TmFtZT1zcF9kZXRhaWw'\n",
    "    \n",
    "    headers = {\"User-Agent\": \"Mozilla/5.0 (Windows NT 10.0; Win64; x64; rv:131.0) Gecko/20100101 Firefox/131.0\", \"Accept-Encoding\":\"gzip, deflate\", \"Accept\":\"text/html,application/xhtml+xml,application/xml;q=0.9,*/*;q=0.8\", \"DNT\":\"1\",\"Connection\":\"close\", \"Upgrade-Insecure-Requests\":\"1\"}\n",
    "    \n",
    "    page = requests.get(URL, headers=headers)\n",
    "    \n",
    "    soup1 = BeautifulSoup(page.content, \"html.parser\")\n",
    "    \n",
    "    soup2 = BeautifulSoup(soup1.prettify(), \"html.parser\")\n",
    "    \n",
    "    title = soup2.find(id='productTitle').get_text()\n",
    "    \n",
    "    price = soup2.find(id='corePriceDisplay_desktop_feature_div').get_text()\n",
    "\n",
    "    price = price.strip()[1:6]\n",
    "    \n",
    "    title = title.strip()\n",
    "\n",
    "    import datetime\n",
    "\n",
    "    today = datetime.date.today()\n",
    "\n",
    "    import csv\n",
    "\n",
    "    header = ['Title','Price','Date']\n",
    "    \n",
    "    data = [title, price, today]\n",
    "\n",
    "    with open('AmazonWebScraperDataset.csv','a+', newline='', encoding='UTF8') as f:\n",
    "        writer = csv.writer(f)\n",
    "        writer.writerow(data)\n",
    "\n",
    "    #send email reminder\n",
    "    if(price < 14):\n",
    "        send_mail()"
   ]
  },
  {
   "cell_type": "code",
   "execution_count": null,
   "id": "6d29202d-4e16-415d-a8ac-488e34dd482b",
   "metadata": {},
   "outputs": [],
   "source": [
    "# Runs check_price after a set time and inputs data into your CSV\n",
    "\n",
    "while(True):\n",
    "    check_price()\n",
    "    time.sleep(86400)"
   ]
  },
  {
   "cell_type": "code",
   "execution_count": null,
   "id": "b826b221-25cd-4c0d-9c4f-2dc846ad90c9",
   "metadata": {},
   "outputs": [],
   "source": [
    "import pandas as pd\n",
    "df = pd.read_csv(r\"C:\\Users\\Admin\\AmazonWebScraperDataset.csv\")\n",
    "df"
   ]
  },
  {
   "cell_type": "code",
   "execution_count": null,
   "id": "5b1ec5f8-2ac9-4ef8-90bf-0baa12a794b4",
   "metadata": {},
   "outputs": [],
   "source": [
    "# If you want to try sending yourself an email (just for fun) when a price hits below a certain level you can try it\n",
    "# out with this script\n",
    "\n",
    "def send_mail():\n",
    "    server = smtplib.SMTP_SSL('smtp.gmail.com',465)\n",
    "    server.ehlo()\n",
    "    #server.starttls()\n",
    "    server.ehlo()\n",
    "    server.login('tom_2516@hotmail.com','xxpasswordxx')\n",
    "    \n",
    "    subject = \"The Shirt you want is below $15! Now is your chance to buy!\"\n",
    "    body = \"Tom, This is the moment we have been waiting for. Now is your chance to pick up the shirt of your dreams. Don't mess it up! Link here: https://www.amazon.com/sspa/click?ie=UTF8&spc=MTo4NTcyNDQyNTE2ODUxODIwOjE3MjgzODgyOTc6c3BfZGV0YWlsOjIwMDAxMzgwMzA3NTM4MTo6Ojo&url=%2Fdp%2FB01FY6G49U%2Fref%3Dsspa_dk_detail_2%3Fpsc%3D1%26pd_rd_i%3DB01FY6G49U%26pd_rd_w%3DodZqO%26content-id%3Damzn1.sym.7446a9d1-25fe-4460-b135-a60336bad2c9%26pf_rd_p%3D7446a9d1-25fe-4460-b135-a60336bad2c9%26pf_rd_r%3DG262YPTD8W0G3VQJTB0Z%26pd_rd_wg%3DLFBgz%26pd_rd_r%3Dc715033d-b6d2-49ed-a390-f2142f1f6495%26s%3Dapparel%26sp_csd%3Dd2lkZ2V0TmFtZT1zcF9kZXRhaWw\"\n",
    "   \n",
    "    msg = f\"Subject: {subject}\\n\\n{body}\"\n",
    "    \n",
    "    server.sendmail(\n",
    "        'tom_2516@hotmail.com',\n",
    "        msg\n",
    "     \n",
    "    )"
   ]
  },
  {
   "cell_type": "code",
   "execution_count": null,
   "id": "645d30fa-b384-4a99-817d-0e5426e938a5",
   "metadata": {},
   "outputs": [],
   "source": []
  },
  {
   "cell_type": "code",
   "execution_count": null,
   "id": "df41435e-e23e-4d6c-ace3-33d90dbae19f",
   "metadata": {},
   "outputs": [],
   "source": []
  },
  {
   "cell_type": "code",
   "execution_count": null,
   "id": "6d9d24fd-fed0-4ff3-a5db-62c4ad8683d1",
   "metadata": {},
   "outputs": [],
   "source": []
  },
  {
   "cell_type": "code",
   "execution_count": null,
   "id": "a80db44a-4a22-4bb3-ab47-8ba60fc2e0f1",
   "metadata": {},
   "outputs": [],
   "source": []
  }
 ],
 "metadata": {
  "kernelspec": {
   "display_name": "Python 3 (ipykernel)",
   "language": "python",
   "name": "python3"
  },
  "language_info": {
   "codemirror_mode": {
    "name": "ipython",
    "version": 3
   },
   "file_extension": ".py",
   "mimetype": "text/x-python",
   "name": "python",
   "nbconvert_exporter": "python",
   "pygments_lexer": "ipython3",
   "version": "3.12.4"
  }
 },
 "nbformat": 4,
 "nbformat_minor": 5
}
